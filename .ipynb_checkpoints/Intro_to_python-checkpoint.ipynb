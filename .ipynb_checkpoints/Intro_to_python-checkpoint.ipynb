{
 "cells": [
  {
   "cell_type": "markdown",
   "id": "0efca9dc",
   "metadata": {},
   "source": [
    "## Operações aritiméticas básicas"
   ]
  },
  {
   "cell_type": "code",
   "execution_count": 31,
   "id": "cf1777bd",
   "metadata": {},
   "outputs": [
    {
     "name": "stdout",
     "output_type": "stream",
     "text": [
      "a mais b = 14\n",
      "a vezes b = 24\n",
      "a elevado a b = 144\n",
      "a dividido por b = 6.0\n"
     ]
    }
   ],
   "source": [
    "a = 12\n",
    "b = 2\n",
    "\n",
    "print(f\"a mais b = {a + b}\")\n",
    "print(f\"a vezes b = {a * b}\")\n",
    "print(f\"a elevado a b = {a ** b}\")\n",
    "print(f\"a dividido por b = {a/b}\")"
   ]
  },
  {
   "cell_type": "markdown",
   "id": "b2581d4d",
   "metadata": {},
   "source": [
    "## Utilizando listas"
   ]
  },
  {
   "cell_type": "code",
   "execution_count": 32,
   "id": "1b57d132",
   "metadata": {},
   "outputs": [
    {
     "name": "stdout",
     "output_type": "stream",
     "text": [
      "lista antes de adicionar um elemento [1, 5, 6, 12, 2]\n",
      "lista depois de adicionar um elemento [1, 5, 6, 12, 2, 100]\n"
     ]
    }
   ],
   "source": [
    "lista_exemplo = [1, 5, 6, a, b]\n",
    "print(f\"lista antes de adicionar um elemento {lista_exemplo}\")\n",
    "\n",
    "#.append adiciona a lista\n",
    "lista_exemplo.append(100)\n",
    "print(f\"lista depois de adicionar um elemento {lista_exemplo}\")"
   ]
  },
  {
   "cell_type": "markdown",
   "id": "1a10b0d8",
   "metadata": {},
   "source": [
    "## Condicionais"
   ]
  },
  {
   "cell_type": "code",
   "execution_count": 33,
   "id": "b7e72e04",
   "metadata": {},
   "outputs": [
    {
     "name": "stdout",
     "output_type": "stream",
     "text": [
      "10 é maior que 5\n"
     ]
    }
   ],
   "source": [
    "x = 10\n",
    "y = 5\n",
    "\n",
    "# avalia se x é maior que y\n",
    "if x > y:\n",
    "    # se for maior entra aqui\n",
    "    print(f\"{x} é maior que {y}\")\n",
    "else:\n",
    "    # caso não seja entra aqui\n",
    "    print(f\"{x} não é maior que {y}\")"
   ]
  },
  {
   "cell_type": "code",
   "execution_count": 34,
   "id": "0fbf11fa",
   "metadata": {},
   "outputs": [
    {
     "name": "stdout",
     "output_type": "stream",
     "text": [
      "10 é igual a 10\n"
     ]
    }
   ],
   "source": [
    "n = 10\n",
    "m = 10\n",
    "\n",
    "# avalia se n é igual a m\n",
    "if n == m:\n",
    "    print(f\"{n} é igual a {m}\")\n",
    "else:\n",
    "    print(f\"{n} é diferente a {m}\")"
   ]
  },
  {
   "cell_type": "markdown",
   "id": "a3bad32f",
   "metadata": {},
   "source": [
    "## Funções"
   ]
  },
  {
   "cell_type": "code",
   "execution_count": 35,
   "id": "903c3ddf",
   "metadata": {},
   "outputs": [
    {
     "data": {
      "text/plain": [
       "60"
      ]
     },
     "execution_count": 35,
     "metadata": {},
     "output_type": "execute_result"
    }
   ],
   "source": [
    "# Cria uma função chamada soma que recebe dois numeros qualquer e soma eles\n",
    "def soma(a, b):\n",
    "    return a + b\n",
    "\n",
    "n1 = 20\n",
    "n2 = 40\n",
    "\n",
    "# usa a funcão com n1 e n2 (n1 sendo a e n2 sendo b)\n",
    "soma(n1,n2)"
   ]
  },
  {
   "cell_type": "code",
   "execution_count": 38,
   "id": "05db2366",
   "metadata": {},
   "outputs": [
    {
     "data": {
      "text/plain": [
       "275.3623188405797"
      ]
     },
     "execution_count": 38,
     "metadata": {},
     "output_type": "execute_result"
    }
   ],
   "source": [
    "# Função chamada resistência_equivalente que deve receber dois números representando\n",
    "# A resistência de dois resistores em paralelo e calcula a resistência equivalente\n",
    "def resistência_equivalente(r1, r2):\n",
    "    multiplicacao = r1 * r2\n",
    "    soma = r2 + r1\n",
    "    return multiplicacao/soma\n",
    "\n",
    "resistor_1 = 380\n",
    "resistor_2 = 1000\n",
    "\n",
    "#Chamada da função, resistor_2 equivale ao r1, e resistor_1 equivale ao r2\n",
    "resistência_equivalente(resistor_2, resistor_1)"
   ]
  },
  {
   "cell_type": "code",
   "execution_count": null,
   "id": "3f902b2c",
   "metadata": {},
   "outputs": [],
   "source": []
  }
 ],
 "metadata": {
  "kernelspec": {
   "display_name": "Python 3 (ipykernel)",
   "language": "python",
   "name": "python3"
  },
  "language_info": {
   "codemirror_mode": {
    "name": "ipython",
    "version": 3
   },
   "file_extension": ".py",
   "mimetype": "text/x-python",
   "name": "python",
   "nbconvert_exporter": "python",
   "pygments_lexer": "ipython3",
   "version": "3.8.12"
  }
 },
 "nbformat": 4,
 "nbformat_minor": 5
}
