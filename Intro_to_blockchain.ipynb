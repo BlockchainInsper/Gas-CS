{
 "cells": [
  {
   "cell_type": "markdown",
   "id": "f65148ec",
   "metadata": {},
   "source": [
    "# Introdução a Blockchain"
   ]
  },
  {
   "cell_type": "markdown",
   "id": "8fa53d83",
   "metadata": {},
   "source": [
    "Uma blockchain é extamente o que o nome diz: uma rede de blocos (blocos são conjuntos de transações). Essas redes tiveram uma adoção muito alta por parte da comunidade por causa de três grandes pontos: **imutabilidade**, **descentralização** e **privacidade**.\n",
    "\n",
    "## Imutabilidade\n",
    "> A imutabilidade é uma das principais, se não a principal, característica de uma blockchain. Como a rede é arquitetada em uma sequência de blocos, todas as informações estão conectadas, dessa forma, qualquer mudança (mesmo que apenas uma letra), será facilmente detectada, pois boa parte da rede irá mudar.\n",
    "\n",
    "> Imagine o seguinte cenário: Fernando, uma pessoa má intencionada, tenta alterar a rede, ele muda uma transação passada para que ganhe mais dinheiro. Caso a rede não tivesse essa característica de imutabilidade, ele poderia simplesmente fazer isso e dificilmente alguem perceberia. Contudo, essa mudança irá mudar e ao mesmo tempo invalidar (depois será explicado melhor, por enquanto aceitem a informação) **todos** os blocos que foram adicionados depois do bloco adulterado por Fernando, assim as outras partes atuantes poderão impedi-lo imediatamente. \n",
    "\n",
    "## Descentralização\n",
    "> A descentralização é outra característica crucial de uma rede blockchain. Em suma, uma blockchian é uma rede distribuida em diversos computadores, ou seja, ao contrário de uma base de dados tradicional que guarda toda sua informação em um único servidor, para que uma blockchain funcione é crucial que diversos (quanto mais melhor) computadores armazenem todos os blocos.\n",
    "\n",
    ">Para exemplificar vou voltar ao exemplo anterior: caso a blockchain que Fernando utiliza fosse armazenada em um único servidor, se o mesmo tivesse acesso a esta base de dados, ele poderia mudar a transação e alterar todos os blocos em sequência para torna-los validos. Dessa forma sua mudança será dificilmente perceptível. Porém, como uma blockchain é armazenada em diversos computadores, para que Fernando consiga alterar a rede, seria necessário mudar 50% de todos os computadores que armazenam a rede ao mesmo tempo, o que é praticamente impossível.\n",
    "\n",
    "## Privacidade\n",
    "\n",
    "> A última grande característica de uma blockchain é a privacidade. Em geral um usuário na rede é representado por um endereço (uma sequência única de números e letras), e não pelo nome/identidade. Vale notar que você pode ter quantos endereços quiser.\n",
    "\n",
    "> Um endereço na rede Ethereum, por exemplo, é representado por um número em Hexadecimal: 0x3Be23B48cA22Ec2cb5989a680CAfeD2e1475378C\n",
    "\n",
    "> No exemplo anterior, após Fernando tentar adulterar a rede em seu favor, caso ele fosse representado pela sua identidade de pessoa física, os integrantes da rede poderiam escolher excluí-lo da rede, contudo, como ninguêm sabe seu endereço, ele pode continuar usando a blockchain anonimamente."
   ]
  },
  {
   "cell_type": "markdown",
   "id": "8fc2f9bc",
   "metadata": {},
   "source": [
    "## Transações e Blocos\n",
    "\n",
    "Beleza, uma blockchain é um rede descentralizada, imutável e os usuários são anônimos. Além disso, a rede é formada pela ligação de blocos, mas o que são os blocos?\n",
    "\n",
    " **Blocos**\n",
    "> Como mencionado anteriormente blocos são conjuntos de transações, e isso é o que diferencia um bloco do outro: para formar um bloco é necessário escolher todas as transações que irão fazer parte do mesmo e calcular um identificador único para o mesmo - isso que é a famosa mineração de crypto. Esse identificador na verdade se chama **hash**, e ele é gerado por uma funçao que recebe algo e calcula um output único, por exemplo, as palavras caneta e canetas teriam outputs (hashes) completamente diferentes.\n",
    "\n",
    "> Para formar e calcular o hash de um bloco, é necessário de algumas informações:\n",
    "> * As transações que irão fazer parte de um bloco (em formato de [merkle root](https://www.investopedia.com/terms/m/merkle-root-cryptocurrency.asp#:~:text=A%20Merkle%20root%20is%20a,whole%2C%20undamaged%2C%20and%20unaltered), não entrarei em detalhes nesse momento)\n",
    "> * A data que o bloco será minerado em Unix (tempo medido em segundos após 1970)\n",
    "> * O hash do bloco anterior (**ai que é feita a ligação entre os blocos, qualquer mudança em um bloco anterior alterará o hash de todos os blocos posteriores**)\n",
    "> * A altura do bloco (número de blocos antes do mesmo)\n",
    "> * Por último, duas informações que são o core da mineração: a **dificuldade da rede** e o **\"nounce\"**\n",
    "\n",
    "**Dificuldade da rede e nounce**\n",
    "\n",
    "\n",
    "> Um exemplo de um hash é este: 127e6fbfe24a750e72930c220a8e138275656b8e5d8f48a98c3c92df2caba935.\n",
    "\n",
    "> Ele é exatamente uma sequencia de números e letras aleatórias. A dificuldade da rede é diretamente ligada ao hash que os blocos tem que ter. Uma dificuldade de 2 significa que o hash tem que ter dois zeros no começo, uma dificulade 3 seriam três zeros, e assim em diante. Mas se a funçao que produz o hash receber a mesma coisa, sempre retornará o mesmo hash. \n",
    "\n",
    "> Mas como que os mineradores vão mudar o hash do bloco para que tenha x zeros no começo? \n",
    "\n",
    "> Uma opcão seria mudar todas as transações até chegar no resultado desejado, contudo, isso seria muito lerdo e complexo. Por esse motivo foi criado o nounce. O **Nounce** é um campo dentro de um bloco, que é preenchido por um número arbitrário. Por isso, para mudar o hash, é apenas necessário mudar o número do nounce. **Assim, minerar transações na Bitcoin é literalmente juntar todas essas funções e ficar mudando o nounce até que o hash tenha a quantidade de zeros inicias referentes a dificuldade da rede.**"
   ]
  },
  {
   "cell_type": "markdown",
   "id": "43a45469",
   "metadata": {},
   "source": [
    "## Imagem ilustrativa de blocos em uma rede blockchain\n",
    "\n",
    "![rede blockchain](img/blockchain.png \"Exemplo rede blockchain\")"
   ]
  },
  {
   "cell_type": "markdown",
   "id": "9a23a8b8",
   "metadata": {},
   "source": [
    "# Enfim, vamos para nossa dinâmica"
   ]
  },
  {
   "cell_type": "markdown",
   "id": "7ee5042d",
   "metadata": {},
   "source": [
    "Agora que vocês já sabem o básico de uma blockchain e sobre a mineração, vocês deverão completar os códigos a seguir para receberem a recompensa da dinâmica"
   ]
  },
  {
   "cell_type": "code",
   "execution_count": 2,
   "id": "0b4f8440",
   "metadata": {},
   "outputs": [],
   "source": [
    "#Importa as bibliotecas necessárias\n",
    "import time\n",
    "from Crypto import Hash\n",
    "from pprint import pprint\n",
    "import requests\n",
    "from hashlib import sha256\n",
    "from merkle import calculate_merkle_root\n",
    "from auxiliar import *"
   ]
  },
  {
   "cell_type": "markdown",
   "id": "88857667",
   "metadata": {},
   "source": [
    "Como vocês estão no curso de Ciência da Computação, a ideia é aprender como funciona o algoritmo de consenso Proof of Work, utilizado no processo de mineração de várias criptomoedas, como o Bitcoin. Assim, conforme visto na explicação, você precisará descobrir um \"nonce\" que, somado às informações contidas no bloco, gere um hash válido para a dificuldade definida pela rede (número de zeros na frente do hash).\n",
    "\n",
    "Dentro da entidade, temos um servidor (criado pelos membros) que simula o processo de mineração de um bloco. Vocês utilizarão este servidor para testar seus conhecimentos!\n",
    "\n",
    "Cada bloco deste exercício contém sete informações:\n",
    "\n",
    "- Difficulty (dificuldade da rede)\n",
    "- Height (altura do bloco)\n",
    "- Merkle Root (raiz merkle das transações)\n",
    "- Nonce\n",
    "- Previous Hash (hash do bloco anterior)\n",
    "- Timestamp em UNIX(data e horário)\n",
    "- Transactions (lista de strings contendo as transações)"
   ]
  },
  {
   "cell_type": "markdown",
   "id": "a76a5cfb",
   "metadata": {},
   "source": [
    "## 1. Demo do Servidor\n",
    "Abaixo, temos o código utilizado para pegar a blockchain que está no nosso servidor. Cada objeto na lista é um bloco."
   ]
  },
  {
   "cell_type": "code",
   "execution_count": 6,
   "id": "9d5672bd",
   "metadata": {
    "scrolled": true
   },
   "outputs": [
    {
     "name": "stdout",
     "output_type": "stream",
     "text": [
      "{'chain': [{'difficulty': 0, 'height': 0, 'merkle_root': '34baa310f5866f536bd5f0e66991b4e57ab15c04ada27991d82448dcff3cefa7', 'nonce': 0, 'previous_hash': '0', 'timestamp': 1630362359.5185194, 'tx': ['Genesis block']}, {'difficulty': 2, 'height': 2, 'merkle_root': '74f9303e53b81c3cfd9720eb8e2c4ed9d5e0169886aebb34ae0d6e67cfd9edf1', 'nonce': 715, 'previous_hash': 'b42cf25677d4464836f55302ae6869cc40e282c16338d014c192b88e81c8af32', 'timestamp': 1630409007.0273967, 'tx': ['Testando', 'Teste']}, {'difficulty': 2, 'height': 3, 'merkle_root': '19ada291c6858fd4a1b3940d5c60a6157e0cbe6ea2ecae5e374d85d563e75305', 'nonce': 110, 'previous_hash': '000ff5d938ec8cdcdae3f771a64e9a88ef32a0759ebdd3da61afea924b6c56b7', 'timestamp': 1630873506.3486974, 'tx': ['Blockchain Insper', 'Tech 2021.2']}, {'difficulty': 2, 'height': 4, 'merkle_root': '40057f05a86a24575152df892aecfef309bf01e646a2b502159bc93b3257b417', 'nonce': 6, 'previous_hash': '001d143e3cc614f9f4b3942092a12bb226992cba3823582c8057a3c907979405', 'timestamp': 1631379177.2336814, 'tx': ['Transação 1', 'Transação 2']}, {'difficulty': 2, 'height': 5, 'merkle_root': 'a24eafa4b5ff80bff01d2622be58f399355ade74a1b5ad6fd55ffe55fa8fc3b3', 'nonce': 318, 'previous_hash': '00d34ea51463bd006b3e4e2ebbc2f9abbd75e2e4dc888fb99528adc1273fbd05', 'timestamp': 1631544912.6522226, 'tx': ['doge supremacy', 'to the moon']}, {'difficulty': 2, 'height': 6, 'merkle_root': '19ada291c6858fd4a1b3940d5c60a6157e0cbe6ea2ecae5e374d85d563e75305', 'nonce': 279, 'previous_hash': '007b5e2a9962930f9304866fd2e4ea598f989f5fb97f3da12ed27a9380da3cb1', 'timestamp': 1646354297.967059, 'tx': ['Blockchain Insper', 'Tech 2021.2']}, {'difficulty': 2, 'height': 7, 'merkle_root': '4be7367dffc7c081f649a08b359338f559119600acc1704b7bfaa3e2f0bc52a7', 'nonce': 62, 'previous_hash': '00becbdeac03f5f8e78a26387d3984adc57f234b8433be0f133f31b431a962e8', 'timestamp': 1646604483.6623092, 'tx': ['teste', 'teste']}, {'difficulty': 2, 'height': 8, 'merkle_root': '63896959f5e8ac8c7afedb8eacf15a19f9c21933f272e9af0c94405d2b9ae40f', 'nonce': 79, 'previous_hash': '00d1943fea40a494047fe3949bac38e0547c51570a0febd241236f4430dc5d2f', 'timestamp': 1646618692.7423842, 'tx': ['fernando', 'franca']}, {'difficulty': 3, 'height': 9, 'merkle_root': '0033d4c95024ea21d4e7dcb949182bbfd43a935c1775e286239a5bbd61ffc0c0', 'nonce': 4379, 'previous_hash': '007257c4040c76cef7fcb71f306145cb1401979268aa42bbbaa2385576c343e9', 'timestamp': 1646619913.8189049, 'tx': ['francisco', 'costa']}, {'difficulty': 2, 'height': 10, 'merkle_root': 'f15ac3d195dc14ebd141ed5d1ffccad720cb5be9665bb07fbbd1ef1b1953af8f', 'nonce': 39, 'previous_hash': '0009c1d1ff4e6b563ab082fa2ab0ccd764a09ba64168026a74211b990ef9447c', 'timestamp': 1646659119.3857517, 'tx': ['paulo', 'chade']}], 'length': 10}\n"
     ]
    }
   ],
   "source": [
    "blocos = requests.get(\"https://blockchainsper.herokuapp.com\").json()\n",
    "print(blocos)"
   ]
  },
  {
   "cell_type": "code",
   "execution_count": 9,
   "id": "801c0926",
   "metadata": {},
   "outputs": [
    {
     "name": "stdout",
     "output_type": "stream",
     "text": [
      "{'difficulty': 2, 'height': 4, 'merkle_root': '40057f05a86a24575152df892aecfef309bf01e646a2b502159bc93b3257b417', 'nonce': 6, 'previous_hash': '001d143e3cc614f9f4b3942092a12bb226992cba3823582c8057a3c907979405', 'timestamp': 1631379177.2336814, 'tx': ['Transação 1', 'Transação 2']}\n"
     ]
    }
   ],
   "source": [
    "#Aqui é um exeplo de um único bloco\n",
    "print(blocos[\"chain\"][3])"
   ]
  },
  {
   "cell_type": "markdown",
   "id": "4fd5d8c2",
   "metadata": {},
   "source": [
    "## 2. Agora é a sua vez de colocar um bloco no servidor!\n",
    "O código abaixo é utilizado para pegar informações importantes para a geração do bloco. Primeiro, pegamos o timestamp em UNIX a partir da função time() e, depois, fazemos uma requisição para o servidor mandar outras informações relevantes, como o hash do último bloco e a dificuldade atual da rede."
   ]
  },
  {
   "cell_type": "code",
   "execution_count": 26,
   "id": "954ddbb7",
   "metadata": {},
   "outputs": [
    {
     "name": "stdout",
     "output_type": "stream",
     "text": [
      "1646659176.6128137\n",
      "{'difficulty': 3, 'height': 11, 'last_hash': '003127dfcb09eae51dc2e507f151b05e77444d83d23b7f965f95cfaa1050a8f2', 'valid': True}\n"
     ]
    }
   ],
   "source": [
    "#Pega o timestamp do tempo atual em UNIX\n",
    "timestamp = time.time()\n",
    "\n",
    "#Pega as informações da rede e do último bloco\n",
    "info = requests.get(\"https://blockchainsper.herokuapp.com/info\").json()\n",
    "\n",
    "#imprime as informações \n",
    "print(timestamp)\n",
    "\n",
    "print(info)"
   ]
  },
  {
   "cell_type": "markdown",
   "id": "3bfb40d1",
   "metadata": {},
   "source": [
    "- difficulty: é a dificuldade da rede (quantidade de zeros que o hash deve começar)\n",
    "- height: é a altura do novo block que iremos minerar\n",
    "- last_hash: é o hash do bloco anterior\n",
    "- valid: True se a blockchain é válida, False se existe um bloco inválido"
   ]
  },
  {
   "cell_type": "code",
   "execution_count": 17,
   "id": "7b71a789",
   "metadata": {},
   "outputs": [],
   "source": [
    "difficulty = info[\"difficulty\"]\n",
    "\n",
    "# Baseado no exemplo acima, crie as variáveis height e last_hash"
   ]
  },
  {
   "cell_type": "markdown",
   "id": "94c9f6c1",
   "metadata": {},
   "source": [
    "Para minerar o nosso bloco, precisaremos adicionar algumas transações a ele..."
   ]
  },
  {
   "cell_type": "code",
   "execution_count": 18,
   "id": "5e61148a",
   "metadata": {},
   "outputs": [],
   "source": [
    "# Preencha a lista abaixo (entre as aspas) com as mensagens (transações) que você deseja enviar para a rede\n",
    "# Coloque o nome da dupla, por exemplo\n",
    "message = [\"\", \"\"]\n"
   ]
  },
  {
   "cell_type": "markdown",
   "id": "a4e06511",
   "metadata": {},
   "source": [
    "A função abaixo calculará a Raiz de Merkle (https://pt.wikipedia.org/wiki/%C3%81rvores_de_Merkle) das transações que você adicionou acima.\n",
    "\n",
    "É interessante notar que ao mudar as transações, mudamos completamente a raiz."
   ]
  },
  {
   "cell_type": "code",
   "execution_count": 19,
   "id": "c581cdf5",
   "metadata": {},
   "outputs": [
    {
     "name": "stdout",
     "output_type": "stream",
     "text": [
      "f15ac3d195dc14ebd141ed5d1ffccad720cb5be9665bb07fbbd1ef1b1953af8f\n"
     ]
    }
   ],
   "source": [
    "merkle_root = calculate_merkle_root(message)\n",
    "\n",
    "print(merkle_root)"
   ]
  },
  {
   "cell_type": "markdown",
   "id": "e89d5871",
   "metadata": {},
   "source": [
    "Escolheremos um nonce arbitrário para vermos o que acontece."
   ]
  },
  {
   "cell_type": "code",
   "execution_count": 20,
   "id": "b7a2994b",
   "metadata": {},
   "outputs": [],
   "source": [
    "nounce = 1"
   ]
  },
  {
   "cell_type": "markdown",
   "id": "b2f5ee5d",
   "metadata": {},
   "source": [
    "Faremos agora o header a ser enviado para o servidor. O header se trata apenas de um padrão de envio que tanto client, quanto server concordam em utilizar para o envio de dados.\n",
    "\n",
    "Neste caso, o header é a seguinte expressão calculada pela função:\n",
    "\"{height}{previous_hash}{merkle_root}{timestamp}{difficulty}{nonce}\""
   ]
  },
  {
   "cell_type": "code",
   "execution_count": 21,
   "id": "115ffd42",
   "metadata": {},
   "outputs": [
    {
     "name": "stdout",
     "output_type": "stream",
     "text": [
      "100009c1d1ff4e6b563ab082fa2ab0ccd764a09ba64168026a74211b990ef9447cf15ac3d195dc14ebd141ed5d1ffccad720cb5be9665bb07fbbd1ef1b1953af8f1646659119.385751721\n"
     ]
    }
   ],
   "source": [
    "header = generate_header(height, last_hash, merkle_root, timestamp, difficulty, nounce)\n",
    "\n",
    "print(header)"
   ]
  },
  {
   "cell_type": "markdown",
   "id": "a784473a",
   "metadata": {},
   "source": [
    "A função abaixo recebe o header que acabamos de fazer e, calcula o seu hash. Esta é a função mais importante do Proof-of-Work. Rode o código abaixo algumas vezes, alterando o parâmetro nounce e veja o que acontece."
   ]
  },
  {
   "cell_type": "code",
   "execution_count": 22,
   "id": "4ba946dd",
   "metadata": {},
   "outputs": [
    {
     "name": "stdout",
     "output_type": "stream",
     "text": [
      "31b0b071a68919a658ea0335770976c30d1141c65e07dede7c9241f4a4446f11\n"
     ]
    }
   ],
   "source": [
    "block_hash = generate_hash(header)\n",
    "\n",
    "print(block_hash)"
   ]
  },
  {
   "cell_type": "markdown",
   "id": "af1b2fe6",
   "metadata": {},
   "source": [
    "Perceba que ao mudarmos o nounce, mudamos COMPLETAMENTE o hash do bloco. Parece até mágico... mas tudo tem matemática por trás\n",
    "\n",
    "\n",
    "A ideia agora é ficarmos mudando o nounce até encontrarmos um hash compatível com a quantidade de zeros suficiente (dificuldade) na frente dele. Pode ser na primeira tentativa, mas também pode demorar anos dependendo da dificuldade.\n",
    "\n",
    "Para sua sorte fizemos uma função para minerar o bloco para você!"
   ]
  },
  {
   "cell_type": "code",
   "execution_count": 23,
   "id": "785950f2",
   "metadata": {},
   "outputs": [
    {
     "name": "stdout",
     "output_type": "stream",
     "text": [
      "{'difficulty': 2, 'height': 10, 'merkle_root': 'f15ac3d195dc14ebd141ed5d1ffccad720cb5be9665bb07fbbd1ef1b1953af8f', 'nonce': 39, 'previous_hash': '0009c1d1ff4e6b563ab082fa2ab0ccd764a09ba64168026a74211b990ef9447c', 'timestamp': 1646659119.3857517, 'tx': ['paulo', 'chade']}\n",
      "003127dfcb09eae51dc2e507f151b05e77444d83d23b7f965f95cfaa1050a8f2\n"
     ]
    }
   ],
   "source": [
    "# Utiliza a função mine_block (deixamos pronta) para minerar o bloco\n",
    "block, block_hash = mine_block(difficulty, height, last_hash, timestamp, message)\n",
    "\n",
    "print(block)\n",
    "print(block_hash)"
   ]
  },
  {
   "cell_type": "markdown",
   "id": "19cfca14",
   "metadata": {},
   "source": [
    "**Caso tenha curiosidade, troque a variável difficulty pelo número 4 e perceba o aumento do tempo que leva para minerar o bloco**"
   ]
  },
  {
   "cell_type": "markdown",
   "id": "14c8fba0",
   "metadata": {},
   "source": [
    "Se você chegou até aqui e tudo está funcionando parabéns, estamos quase terminando. O bloco já está pronto, apenas precisamos enviá-lo para a rede. Para isso, crie um váriavel com o nome que desejar e atribua a ela o seguinte código: \n",
    "~~~python\n",
    "requests.post(\"https://blockchainsper.herokuapp.com/mine\", json = )\n",
    "~~~\n",
    "\n",
    "em **json =**  você deve colocar a váriavel onde o bloco foi armazenado\n",
    "\n",
    "Por fim, imprima o texto do bloco usando o código:\n",
    "~~~python\n",
    "print(sua_variavel.text)\n",
    "~~~\n",
    "\n",
    "Apenas substitua **sua_variavel** pelo nome que você atribuiu a sua variável."
   ]
  },
  {
   "cell_type": "code",
   "execution_count": null,
   "id": "494f7b4e",
   "metadata": {},
   "outputs": [],
   "source": []
  },
  {
   "cell_type": "markdown",
   "id": "d8138114",
   "metadata": {},
   "source": [
    "## Desafio Extra"
   ]
  },
  {
   "cell_type": "markdown",
   "id": "5feaeba1",
   "metadata": {},
   "source": [
    "Sim, temos um desafio extra para vocês! E vale ressaltar que os primeiros que completarem esse desafio ganharão um **NFT exclusivo da Blockchain Insper** (https://opensea.io/assets/matic/0x47fa6e1f5be0eb7103425b00ded52d7f89b483ba/1) que da o direito de participar do nosso Processo Seletivo 2022.1, que atualmente não aceita mais inscrições.\n",
    "\n",
    "O desafio consiste em vocês completarem a função abaixo que minera o bloco, aquela que fornecemos anteriormente! "
   ]
  },
  {
   "cell_type": "markdown",
   "id": "850e8658",
   "metadata": {},
   "source": [
    "**Dica**: Existe uma função chamada sha256 que calcula o hash, pesquisem sobre a mesma na internet. O exeplo que fizemos utiliza como base a rede do bitcoin, o mesmo realiza o hash duas vezes seguidas, ou seja, o hash do hash."
   ]
  },
  {
   "cell_type": "code",
   "execution_count": 14,
   "id": "0210071a",
   "metadata": {},
   "outputs": [
    {
     "ename": "IndentationError",
     "evalue": "expected an indented block (4209688197.py, line 13)",
     "output_type": "error",
     "traceback": [
      "\u001b[0;36m  Input \u001b[0;32mIn [14]\u001b[0;36m\u001b[0m\n\u001b[0;31m    new_block = {\u001b[0m\n\u001b[0m    ^\u001b[0m\n\u001b[0;31mIndentationError\u001b[0m\u001b[0;31m:\u001b[0m expected an indented block\n"
     ]
    }
   ],
   "source": [
    "def desafio_extra(difficulty, height, last_hash, timestamp, message):\n",
    "    merkle_root = calculate_merkle_root(message)\n",
    "    \n",
    "    nounce = 0 \n",
    "    hash_new = \"\"\n",
    "    \n",
    "    \n",
    "    while hash_new[:difficulty] != \"0\" * difficulty: # Esta linha verifica se hash_new começa com o número de zeros da dificuldade\n",
    "        # Preencha o loop\n",
    "\n",
    "\n",
    "        \n",
    "    new_block = {\n",
    "        \"difficulty\" : difficulty,\n",
    "        \"height\" : height,\n",
    "        \"merkle_root\" : merkle_root,\n",
    "        \"nonce\": nounce,\n",
    "        \"previous_hash\" : last_hash,\n",
    "        \"timestamp\" : timestamp,\n",
    "        \"tx\" : message\n",
    "    }\n",
    "\n",
    "    return new_block\n",
    "\n",
    "info = requests.get(\"https://blockchainsper.herokuapp.com/info\").json()\n",
    "\n",
    "difficulty = info[\"difficulty\"]\n",
    "height = info[\"height\"]\n",
    "last_hash = info[\"last_hash\"]\n",
    "timestamp = time.time()\n",
    "message = [\"\", \"\"]\n",
    "\n",
    "bloco = desafio_extra(difficulty, height, last_hash, timestamp, message)\n",
    "print(requests.post(\"https://blockchainsper.herokuapp.com/mine\", json = bloco).text)"
   ]
  },
  {
   "cell_type": "code",
   "execution_count": null,
   "id": "2bfa3599",
   "metadata": {},
   "outputs": [],
   "source": []
  }
 ],
 "metadata": {
  "kernelspec": {
   "display_name": "Python 3 (ipykernel)",
   "language": "python",
   "name": "python3"
  },
  "language_info": {
   "codemirror_mode": {
    "name": "ipython",
    "version": 3
   },
   "file_extension": ".py",
   "mimetype": "text/x-python",
   "name": "python",
   "nbconvert_exporter": "python",
   "pygments_lexer": "ipython3",
   "version": "3.8.12"
  }
 },
 "nbformat": 4,
 "nbformat_minor": 5
}
