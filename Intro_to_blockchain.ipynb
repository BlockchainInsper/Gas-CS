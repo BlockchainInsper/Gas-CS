{
 "cells": [
  {
   "cell_type": "markdown",
   "id": "f65148ec",
   "metadata": {},
   "source": [
    "# Introdução a Blockchain"
   ]
  },
  {
   "cell_type": "markdown",
   "id": "8fa53d83",
   "metadata": {},
   "source": [
    "Uma blockchain é extamente o que o nome diz: uma rede de blocos (blocos são conjuntos de transações). Essas redes tiveram uma adoção muito alta por parte da comunidade por causa de três grandes pontos: **imutabilidade**, **descentralização** e **privacidade**.\n",
    "\n",
    "## Imutabilidade\n",
    "> A imutabilidade é uma das principais, se não a principal, característica de uma blockchain. Como a rede é arquitetada em uma sequência de blocos, todas as informações estão conectadas, dessa forma, qualquer mudança (mesmo que apenas uma letra), será facilmente detectada, pois boa parte da rede irá mudar.\n",
    "\n",
    "> Imagine o seguinte cenário: Fernando, uma pessoa má intencionada, tenta alterar a rede, ele muda uma transação passada para que ganhe mais dinheiro. Caso a rede não tivesse essa característica de imutabilidade, ele poderia simplesmente fazer isso e dificilmente alguem perceberia. Contudo, essa mudança irá mudar e ao mesmo tempo invalidar (depois será explicado melhor, por enquanto aceitem a informação) **todos** os blocos que foram adicionados depois do bloco adulterado por Fernando, assim as outras partes atuantes poderão impedi-lo imediatamente. \n",
    "\n",
    "## Descentralização\n",
    "> A descentralização é outra característica crucial de uma rede blockchain. Em suma, uma blockchian é uma rede distribuida em diversos computadores, ou seja, ao contrário de uma base de dados tradicional que guarda toda sua informação em um único servidor, para que uma blockchain funcione é crucial que diversos (quanto mais melhor) computadores armazenem todos os blocos.\n",
    "\n",
    ">Para exemplificar vou voltar ao exemplo anterior: caso a blockchain que Fernando utiliza fosse armazenada em um único servidor, se o mesmo tivesse acesso a esta base de dados, ele poderia mudar a transação e alterar todos os blocos em sequência para torna-los validos. Dessa forma sua mudança será dificilmente perceptível. Porém, como uma blockchain é armazenada em diversos computadores, para que Fernando consiga alterar a rede, seria necessário mudar 50% de todos os computadores que armazenam a rede ao mesmo tempo, o que é praticamente impossível.\n",
    "\n",
    "## Privacidade\n",
    "\n",
    "> A última grande característica de uma blockchain é a privacidade. Em geral um usuário na rede é representado por um endereço (uma sequência única de números e letras), e não pelo nome/identidade. Vale notar que você pode ter quantos endereços quiser.\n",
    "\n",
    "> No exemplo anterior, após Fernando tentar adulterar a rede em seu favor, caso ele fosse representado pela sua identidade de pessoa física, os integrantes da rede poderiam escolher excluí-lo da rede, contudo, como ninguêm sabe seu endereço, ele pode continuar usando a blockchain anonimamente."
   ]
  },
  {
   "cell_type": "markdown",
   "id": "8fc2f9bc",
   "metadata": {},
   "source": [
    "## Transações e Blocos\n",
    "\n",
    "Beleza, uma blockchain é um rede descentralizada, imutável e os usuários são anônimos. Além disso, a rede é formada pela ligação de blocos, mas o que são os blocos?\n",
    "\n",
    " **Blocos**\n",
    "> Como mencionado anteriormente blocos são conjuntos de transações, e isso é o que diferencia um bloco do outro: para formar um bloco é necessário escolher todas as transações que irão fazer parte do mesmo e calcular um identificador único para o mesmo - isso que é a famosa mineração de crypto. Esse identificador na verdade se chama hash, e ele é gerado por uma funçao que recebe algo e calcula um output único, por exemplo, as palavras caneta e canetas teriam outputs (hashes) completamente diferentes.\n",
    "\n",
    "> Para formar e calcular o hash de um bloco, é necessário de algumas informações:\n",
    "> * As transações que irão fazer parte de um bloco (em formato de [merkle root](https://www.investopedia.com/terms/m/merkle-root-cryptocurrency.asp#:~:text=A%20Merkle%20root%20is%20a,whole%2C%20undamaged%2C%20and%20unaltered), não entrarei em detalhes nesse momento)\n",
    "> * O a data que o bloco será minerado em Unix (tempo medido em segundos após 1970)\n",
    "> * O hash do bloco anterior (ai que é feita a ligação entre os blocos, qualquer mudança em um bloco anterior alterará o hash de todos os blocos posteriores)\n",
    "> * A altura do bloco (número de blocos antes do mesmo)\n",
    "> * Por último, duas informações que são o core da mineração: a **dificuldade da rede** e o **\"nounce\"**\n",
    "\n",
    "> **Dificuldade da rede e nounce**\n",
    ">> Um exemplo de um hash é este: 127e6fbfe24a750e72930c220a8e138275656b8e5d8f48a98c3c92df2caba935.\n",
    "\n",
    "\n",
    ">>Ele é exatamente uma sequencia de números e letras aleatórias. A dificuldade da rede é diretamente ligada ao hash que os blocos tem que ter. Uma dificuldade de 2 significa que o hash tem que ter dois zeros no começo, uma dificulade 3 seriam três zeros, e assim em diante. Mas se a funçao que produz o hash, quando recebe a mesma coisa (por exeplo maça sempre terá o mesmo hash), sempre retornará o mesmo hash, como que os mineradores vão mudar o hash do bloco para que tenha x zeros no começo? Uma opcão seria mudar todas as transações até chegar no resultado desejado, contudo, isso seria muito lerdo e complexo. Por esse motivo foi criado o nounce. O **Nounce** é um campo que é preenchido por um número, dessa forma, para mudar o hash, é apenas necessário mudar o número do nounce. Assim minerar transações na Bitcoin é literalmente juntar todas essas funções e ficar mudando o nounce até que o hash tenha a quantidade de zeros inicias referentes a dificuldade da rede."
   ]
  },
  {
   "cell_type": "markdown",
   "id": "43a45469",
   "metadata": {},
   "source": [
    "## Imagem ilustrativa de blocos em uma rede blockchain\n",
    "\n",
    "![rede blockchain](img/blockchain.png \"Exemplo rede blockchain\")"
   ]
  },
  {
   "cell_type": "markdown",
   "id": "9a23a8b8",
   "metadata": {},
   "source": [
    "# Enfim, vamos para nossa dinâmica"
   ]
  },
  {
   "cell_type": "markdown",
   "id": "7ee5042d",
   "metadata": {},
   "source": [
    "Agora que vocês já sabem o básico de uma blockchain e sobre a mineração, vocês deverão completar os códigos a seguir para receberem a recompensa da dinâmica"
   ]
  },
  {
   "cell_type": "code",
   "execution_count": 4,
   "id": "0b4f8440",
   "metadata": {},
   "outputs": [],
   "source": [
    "#Importa as bibliotecas necessárias\n",
    "import time\n",
    "from Crypto import Hash\n",
    "import requests\n",
    "from hashlib import sha256\n",
    "from merkle import calculate_merkle_root\n",
    "from auxiliar import new_block"
   ]
  },
  {
   "cell_type": "code",
   "execution_count": 7,
   "id": "954ddbb7",
   "metadata": {},
   "outputs": [
    {
     "name": "stdout",
     "output_type": "stream",
     "text": [
      "{'difficulty': 2, 'height': 7, 'last_hash': '00becbdeac03f5f8e78a26387d3984adc57f234b8433be0f133f31b431a962e8', 'valid': True}\n"
     ]
    }
   ],
   "source": [
    "#Pega o timestamp do tempo atual\n",
    "timestamp = time.time()\n",
    "\n",
    "#Pega as informações da rede e do último bloco\n",
    "info = requests.get(\"https://blockchainsper.herokuapp.com/info\").json()\n",
    "\n",
    "#imprime as informações \n",
    "print(info)"
   ]
  },
  {
   "cell_type": "code",
   "execution_count": null,
   "id": "7b71a789",
   "metadata": {},
   "outputs": [],
   "source": [
    "difficulty = info[\"difficulty\"]\n",
    "height = info[\"height\"]\n",
    "\n",
    "#baseado nos exemplos acima, crie as variáveis last_hash e valid\n"
   ]
  },
  {
   "cell_type": "code",
   "execution_count": 3,
   "id": "5e61148a",
   "metadata": {},
   "outputs": [],
   "source": [
    "#preencha a lista abaixo (entre as aspas) com as mensagens que você deseja enviar para a rede\n",
    "message = [\"\", \"\"]\n",
    "\n",
    "#utiliza a função new_block (deixamos pronta) para criar o bloco\n",
    "block = new_block(difficulty, height, last_hash, timestamp, message)"
   ]
  },
  {
   "cell_type": "markdown",
   "id": "14c8fba0",
   "metadata": {},
   "source": [
    "Se você chegou até aqui e tudo está funcionando parabéns, estamos quase terminando. O bloco já está pronto, apenas precisamos enviá-lo para a rede. Para isso, crie um váriavel com o nome que desejar e atribua a ela o seguinte código: \n",
    "~~~python\n",
    "requests.post(\"https://blockchainsper.herokuapp.com/mine\", json = )\n",
    "~~~\n",
    "\n",
    "em **json =**  você deve colocar a váriavel onde o bloco foi armazenado\n",
    "\n",
    "Por fim, imprima o texto do bloco usando o código:\n",
    "~~~python\n",
    "print(sua_variavel.text)\n",
    "~~~\n",
    "\n",
    "Apenas substitua **sua_variavel** pelo nome que você atribuiu a sua variável."
   ]
  },
  {
   "cell_type": "code",
   "execution_count": null,
   "id": "494f7b4e",
   "metadata": {},
   "outputs": [],
   "source": []
  },
  {
   "cell_type": "markdown",
   "id": "d8138114",
   "metadata": {},
   "source": [
    "## Desafio Extra"
   ]
  },
  {
   "cell_type": "markdown",
   "id": "5feaeba1",
   "metadata": {},
   "source": [
    "Sim, temos um desafio extra para vocês! E vale ressaltar que quem completar esse desafio ganhará um NFT exclusivo da Blockchain Insper que da o direito de participar do nosso Processo Seletivo 2022.1, que atualmente não aceita mais inscrições.\n",
    "\n",
    "O desafio consiste em vocês completarem a função abaixo que cria o bloco, aquela que fornecemos anteriormente! No final, para testa-lá, substitua o nome **new_block** por **desafio_extra** na linha onde criamos o bloco acima. "
   ]
  },
  {
   "cell_type": "code",
   "execution_count": null,
   "id": "0210071a",
   "metadata": {},
   "outputs": [],
   "source": [
    "def desafio_extra(difficulty, height, last_hash, timestamp, message):\n",
    "    nounce = 0 \n",
    "    hash_new = \"\"\n",
    "\n",
    "    #Crie um loop para alterar o nounce até o correto\n",
    "\n",
    "    \n",
    "    #Preencha o header abaixo com as informações recebidas \n",
    "    new_block = {\"difficulty\" : , \"height\" : ,\"merkle_root\" : , \"nonce\": ,\"previous_hash\" : ,\"timestamp\" : ,\"tx\" : }\n",
    "    \n",
    "    return new_block"
   ]
  }
 ],
 "metadata": {
  "kernelspec": {
   "display_name": "Python 3 (ipykernel)",
   "language": "python",
   "name": "python3"
  },
  "language_info": {
   "codemirror_mode": {
    "name": "ipython",
    "version": 3
   },
   "file_extension": ".py",
   "mimetype": "text/x-python",
   "name": "python",
   "nbconvert_exporter": "python",
   "pygments_lexer": "ipython3",
   "version": "3.9.10"
  }
 },
 "nbformat": 4,
 "nbformat_minor": 5
}
